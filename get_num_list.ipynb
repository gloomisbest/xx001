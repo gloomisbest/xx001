{
 "cells": [
  {
   "cell_type": "code",
   "execution_count": 1,
   "metadata": {},
   "outputs": [],
   "source": [
    "from PIL import Image\n",
    "import numpy as np\n",
    "import requests as req\n",
    "from io import BytesIO\n",
    "\n",
    "def read_image(imageName):\n",
    "    im = Image.open(imageName).convert('RGB')\n",
    "    data = np.array(im)\n",
    "    return data\n",
    "\n",
    "def read_image_url(img_url):\n",
    "    response = req.get('http://'+img_url)\n",
    "    im = Image.open(BytesIO(response.content)).convert('RGB')\n",
    "    data = np.array(im)\n",
    "    return data\n",
    "\n",
    "def get_num(n):\n",
    "    l_num = []\n",
    "    m = 0\n",
    "    x = n\n",
    "    while True:\n",
    "        if m < 9:\n",
    "            x0,x1, = np.split(x, [30],axis = 1)\n",
    "            #print(x0)\n",
    "            #plt.imshow(x0)\n",
    "            #plt.pause(0.001)\n",
    "            #print(x1)\n",
    "            #plt.imshow(x1)\n",
    "            #plt.pause(0.001)\n",
    "            l_num.append(x0)\n",
    "            x = x1\n",
    "            m+=1\n",
    "            continue\n",
    "        else:\n",
    "            l_num.append(x)\n",
    "            #plt.imshow(x)\n",
    "            #plt.pause(0.001)\n",
    "            break\n",
    "    return l_num\n",
    "\n",
    "def get_0_9():\n",
    "    l_num = get_num(read_image('test001.png'))\n",
    "    x2,x4,x3,x6,x8,x5,x1,x9,x0,x7 = l_num\n",
    "    list_num = [x0,x1,x2,x3,x4,x5,x6,x7,x8,x9]\n",
    "    return list_num\n",
    "\n",
    "def get_num_list(png):\n",
    "    l = []\n",
    "    list_num = get_0_9()\n",
    "    l_num_test = get_num(read_image_url(png))\n",
    "    for i in range(0,10):\n",
    "        #plt.imshow(l_num_test[i])\n",
    "        #plt.pause(0.001)\n",
    "        for w in range(0,10):\n",
    "            #print((i == w).all())\n",
    "            if (l_num_test[i] == list_num[w]).all():\n",
    "                #plt.imshow(w)\n",
    "                #plt.pause(0.001)\n",
    "                l.append(w)\n",
    "                #print(w)\n",
    "                break\n",
    "    #print (l)\n",
    "    return l"
   ]
  },
  {
   "cell_type": "code",
   "execution_count": 2,
   "metadata": {},
   "outputs": [
    {
     "name": "stdout",
     "output_type": "stream",
     "text": [
      "[1, 0, 7, 3, 2, 6, 5, 9, 8, 4]\n"
     ]
    }
   ],
   "source": [
    "a = get_num_list('static8.ziroom.com/phoenix/pc/images/price/e1b89727400c2b61fe1018661fada079s.png')\n",
    "print(a)"
   ]
  }
 ],
 "metadata": {
  "kernelspec": {
   "display_name": "Python 3",
   "language": "python",
   "name": "python3"
  },
  "language_info": {
   "codemirror_mode": {
    "name": "ipython",
    "version": 3
   },
   "file_extension": ".py",
   "mimetype": "text/x-python",
   "name": "python",
   "nbconvert_exporter": "python",
   "pygments_lexer": "ipython3",
   "version": "3.7.1"
  },
  "toc": {
   "base_numbering": 1,
   "nav_menu": {},
   "number_sections": true,
   "sideBar": true,
   "skip_h1_title": false,
   "title_cell": "Table of Contents",
   "title_sidebar": "Contents",
   "toc_cell": false,
   "toc_position": {},
   "toc_section_display": true,
   "toc_window_display": false
  }
 },
 "nbformat": 4,
 "nbformat_minor": 2
}
